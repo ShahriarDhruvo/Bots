{
 "cells": [
  {
   "cell_type": "code",
   "execution_count": 3,
   "metadata": {},
   "outputs": [],
   "source": [
    "# import json\n",
    "\n",
    "# with open('registered_files.json', 'r+', encoding='utf-8') as f:\n",
    "#     data = json.load(f)\n",
    "\n",
    "#     for idx, info in enumerate(data[\"files\"]):\n",
    "#         if not \"post_permalink\" in info:\n",
    "#             data[\"files\"][idx] = {\n",
    "#                 \"id\": info[\"id\"],\n",
    "#                 \"post_id\": -1,\n",
    "#                 \"type\": info[\"type\"],\n",
    "#                 \"name\": info[\"name\"],\n",
    "#                 \"uploaded_date\": info[\"uploaded_date\"],\n",
    "#             }\n",
    "#         else:\n",
    "#             post_id = int(info[\"post_permalink\"].split(\"/\")[-2])\n",
    "            \n",
    "#             data[\"files\"][idx] = {\n",
    "#                 \"id\": info[\"id\"],\n",
    "#                 \"post_id\": post_id,\n",
    "#                 \"type\": info[\"type\"],\n",
    "#                 \"name\": info[\"name\"],\n",
    "#                 \"uploaded_date\": info[\"uploaded_date\"],\n",
    "#             }\n",
    "    \n",
    "#     # for idx, info in enumerate(data[\"files\"]):\n",
    "#     #     print(info)\n",
    "\n",
    "# with open('registered_files.json', 'w', encoding='utf-8') as f:\n",
    "#     json.dump(data, f, indent=4, ensure_ascii=False)"
   ]
  },
  {
   "cell_type": "code",
   "execution_count": 4,
   "metadata": {},
   "outputs": [],
   "source": [
    "# import json\n",
    "\n",
    "# with open('registered_files.json', 'r+', encoding='utf-8') as f:\n",
    "#     data = json.load(f)\n",
    "\n",
    "#     data[\"files\"] = sorted(data[\"files\"], key=lambda x: x[\"post_id\"])\n",
    "\n",
    "#     for idx, info in enumerate(data[\"files\"]):\n",
    "#         data[\"files\"][idx] = {\n",
    "#             \"id\": idx + 1,\n",
    "#             \"type\": info[\"type\"],\n",
    "#             \"post_id\": info[\"post_id\"],\n",
    "#             \"name\": info[\"name\"],\n",
    "#             \"uploaded_date\": info[\"uploaded_date\"],\n",
    "#         }\n",
    "\n",
    "# with open('registered_files.json', 'w', encoding='utf-8') as f:\n",
    "#     json.dump(data, f, indent=4, ensure_ascii=False)"
   ]
  },
  {
   "cell_type": "code",
   "execution_count": 68,
   "metadata": {},
   "outputs": [],
   "source": [
    "import json\n",
    "import string\n",
    "\n",
    "with open('registered_files.json', 'r+', encoding='utf-8') as f:\n",
    "    registered_file_list = json.load(f)[\"files\"]\n",
    "\n",
    "registered_file_list = sorted(registered_file_list, key=lambda x: x['post_id'])\n"
   ]
  },
  {
   "cell_type": "code",
   "execution_count": 72,
   "metadata": {},
   "outputs": [
    {
     "name": "stdout",
     "output_type": "stream",
     "text": [
      "-1\n"
     ]
    }
   ],
   "source": [
    "def compareData(s1, s2):\n",
    "    \"\"\"\n",
    "    Note\n",
    "    ----\n",
    "    1. You donot need to normalize the string here because it should be normalized before passing to this function\n",
    "    or this will generate unexpected results when strings are compared(>, <) in the binarySearch()\n",
    "    and it will help with the performance too as you don't need to normalize in every check\n",
    "\n",
    "    2. Removing whitespace in the string before comparing because when file saves in the machine\n",
    "    it seems to add whitepsaces after '-' and there can also be some other things like this\n",
    "\n",
    "    \"\"\"\n",
    "    # remove = string.punctuation + string.whitespace\n",
    "    remove = string.whitespace\n",
    "    mapping = {ord(c): None for c in remove}\n",
    "\n",
    "    return s1.translate(mapping) == s2.translate(mapping)\n",
    "\n",
    "def lowerBound(search_item, itemList, key):\n",
    "    left = 0\n",
    "    right = len(itemList) - 1\n",
    "\n",
    "    while left <= right:\n",
    "        mid = left + (right - left) // 2\n",
    "\n",
    "        if itemList[mid][key] >= search_item[key]:\n",
    "            right = mid - 1\n",
    "        else:\n",
    "            left = mid + 1 \n",
    "\n",
    "    return left\n",
    "\n",
    "def upperBound(search_item, itemList, key):\n",
    "    left = 0\n",
    "    right = len(itemList) - 1\n",
    "\n",
    "    while left <= right:\n",
    "        mid = left + (right - left) // 2\n",
    "\n",
    "        if itemList[mid][key] > search_item[key]:\n",
    "            right = mid - 1\n",
    "        else:\n",
    "            left = mid + 1 \n",
    "\n",
    "    return left\n",
    "\n",
    "def findMatchBound(search_item, itemList):\n",
    "    left = lowerBound(search_item, itemList, \"post_id\")\n",
    "    right = upperBound(search_item, itemList, \"post_id\")\n",
    "    \n",
    "    return left, right\n",
    "\n",
    "match_item = {\n",
    "            \"id\": 5,\n",
    "            \"post_id\": 1412452252423645,\n",
    "            \"type\": \"PDF\",\n",
    "            \"name\": \"TobuoProyas BookList 2022.pdf\",\n",
    "            \"uploaded_date\": \"March 3, 2022 at 11:06 PM\"\n",
    "        }\n",
    "\n",
    "left, right = findMatchBound(match_item, registered_file_list)\n",
    "\n",
    "if left == right:\n",
    "    print(-1)\n",
    "\n",
    "# Linear Search between the left and right most position of the matched item\n",
    "for idx in range(left, right):\n",
    "    c1 = match_item[\"post_id\"] == registered_file_list[idx][\"post_id\"]\n",
    "    c2 = compareData(match_item[\"name\"], registered_file_list[idx][\"name\"])\n",
    "    c3 = compareData(\n",
    "        match_item[\"uploaded_date\"], registered_file_list[idx][\"uploaded_date\"]\n",
    "    )\n",
    "    if c1 and c2 and c3:\n",
    "        print(registered_file_list[idx])\n",
    "        break"
   ]
  },
  {
   "cell_type": "code",
   "execution_count": 30,
   "metadata": {},
   "outputs": [
    {
     "name": "stdout",
     "output_type": "stream",
     "text": [
      "2\n",
      "3\n",
      "4\n",
      "5\n"
     ]
    },
    {
     "data": {
      "text/plain": [
       "0.0009961128234863281"
      ]
     },
     "execution_count": 30,
     "metadata": {},
     "output_type": "execute_result"
    }
   ],
   "source": [
    "import time\n",
    "\n",
    "s = time.time()\n",
    "\n",
    "array = [1, 2, 3, 4, 5]\n",
    "\n",
    "for idx in range(1, len(array)):\n",
    "    # if array[idx] == 3:\n",
    "    array = [1, 2, 3, 4, 5, 6]\n",
    "\n",
    "    print(array[idx])\n",
    "\n",
    "time.time() - s"
   ]
  },
  {
   "cell_type": "code",
   "execution_count": 6,
   "metadata": {},
   "outputs": [
    {
     "data": {
      "text/plain": [
       "'fallenlkkldask'"
      ]
     },
     "execution_count": 6,
     "metadata": {},
     "output_type": "execute_result"
    }
   ],
   "source": [
    "import unicodedata\n",
    "import string\n",
    "\n",
    "\n",
    "def normalizeData(data):\n",
    "    return unicodedata.normalize(\"NFC\", data)\n",
    "\n",
    "\n",
    "def transformData(dataArray):\n",
    "    res = \"\"\n",
    "\n",
    "    for data in dataArray:\n",
    "        res += str(data)\n",
    "\n",
    "    \"\"\"\n",
    "    Note\n",
    "    ----\n",
    "    1. Removing whitespace from the string before comparing because when the file is saved on the machine\n",
    "    It appears to add whitespaces after '-', and there may be other things like this.\n",
    "\n",
    "    2. Normalizing here because this function have to accept normalized/scattered data\n",
    "\n",
    "    \"\"\"\n",
    "    # remove = string.punctuation + string.whitespace\n",
    "    remove = string.whitespace\n",
    "    mapping = {ord(c): None for c in remove}\n",
    "\n",
    "    res = res.translate(mapping)\n",
    "\n",
    "    return normalizeData(res)\n"
   ]
  }
 ],
 "metadata": {
  "interpreter": {
   "hash": "a6f1cfe79f56d279582f17f73a9eb5633d4a9a41d3b3a59f179f8bfa552d5d17"
  },
  "kernelspec": {
   "display_name": "Python 3.10.2 ('venv': venv)",
   "language": "python",
   "name": "python3"
  },
  "language_info": {
   "codemirror_mode": {
    "name": "ipython",
    "version": 3
   },
   "file_extension": ".py",
   "mimetype": "text/x-python",
   "name": "python",
   "nbconvert_exporter": "python",
   "pygments_lexer": "ipython3",
   "version": "3.9.6"
  },
  "orig_nbformat": 4
 },
 "nbformat": 4,
 "nbformat_minor": 2
}
