{
 "cells": [
  {
   "cell_type": "code",
   "execution_count": null,
   "metadata": {},
   "outputs": [],
   "source": [
    "# import json\n",
    "\n",
    "# with open('bot_tmp.log', encoding='utf-8') as f:\n",
    "#     lines = [line.split(\" --- \") for line in f.readlines()]\n",
    "\n",
    "#     res = {'files': []}\n",
    "\n",
    "#     for idx, line in enumerate(lines):\n",
    "#         entry = {\n",
    "#             'id': idx + 1,\n",
    "#             'type': line[1].strip()[1:-1],\n",
    "#             'name': line[0].strip()[1:-1],\n",
    "#             'uploaded_date': line[2].strip()[1:-1]\n",
    "#         }\n",
    "\n",
    "#         res['files'].append(entry)\n",
    "\n",
    "#     with open('files_info.json', 'w', encoding='utf-8') as f:\n",
    "#         json.dump(res, f, indent=4, ensure_ascii=False)"
   ]
  },
  {
   "cell_type": "code",
   "execution_count": 1,
   "metadata": {},
   "outputs": [
    {
     "name": "stdout",
     "output_type": "stream",
     "text": [
      "66\n"
     ]
    }
   ],
   "source": [
    "# import json\n",
    "\n",
    "# auxiliaryList = []\n",
    "\n",
    "# with open('../files_info.json', 'r+', encoding='utf-8') as f:\n",
    "#     data = json.load(f)\n",
    "\n",
    "#     for info in data[\"files\"]:\n",
    "#         info[\"id\"] = 1\n",
    "\n",
    "#     for idx, info in enumerate(data[\"files\"]):\n",
    "#         if info not in auxiliaryList:\n",
    "#             auxiliaryList.append(info)\n",
    "\n",
    "#     for idx, info in enumerate(auxiliaryList):\n",
    "#         info[\"id\"] = idx + 1\n",
    "\n",
    "#     print(len(data['files']))\n",
    "    \n",
    "# with open('../files_info.json', 'w', encoding='utf-8') as f:\n",
    "#     data[\"files\"] = auxiliaryList\n",
    "#     json.dump(data, f, indent=4, ensure_ascii=False)"
   ]
  }
 ],
 "metadata": {
  "interpreter": {
   "hash": "88901c317dc70daf78dfd7a773a6525c4dfeb1fa8e4740ded1ab17187716d835"
  },
  "kernelspec": {
   "display_name": "Python 3 (ipykernel)",
   "language": "python",
   "name": "python3"
  },
  "language_info": {
   "codemirror_mode": {
    "name": "ipython",
    "version": 3
   },
   "file_extension": ".py",
   "mimetype": "text/x-python",
   "name": "python",
   "nbconvert_exporter": "python",
   "pygments_lexer": "ipython3",
   "version": "3.10.2"
  }
 },
 "nbformat": 4,
 "nbformat_minor": 2
}
